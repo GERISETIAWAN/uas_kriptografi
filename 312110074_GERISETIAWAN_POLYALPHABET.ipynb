{
  "nbformat": 4,
  "nbformat_minor": 0,
  "metadata": {
    "colab": {
      "provenance": []
    },
    "kernelspec": {
      "name": "python3",
      "display_name": "Python 3"
    },
    "language_info": {
      "name": "python"
    }
  },
  "cells": [
    {
      "cell_type": "code",
      "execution_count": null,
      "metadata": {
        "colab": {
          "base_uri": "https://localhost:8080/"
        },
        "id": "Mrhtnpd17LrF",
        "outputId": "e5dac1ea-a2ad-4d38-93c7-846c357c37da"
      },
      "outputs": [
        {
          "output_type": "stream",
          "name": "stdout",
          "text": [
            "Masukkan teks: GERI SETIAWAN\n",
            "Masukkan kunci: 123\n",
            "\n",
            "Teks Asli: GERISETIAWAN\n",
            "Teks Terenkripsi: QPDSDQDTMGLZ\n",
            "Teks Terdekripsi: GERISETIAWAN\n"
          ]
        }
      ],
      "source": [
        "def vigenere_encrypt(plain_text, key):\n",
        "    encrypted_text = ''\n",
        "    key_repeated = (key * (len(plain_text) // len(key) + 1))[:len(plain_text)]\n",
        "\n",
        "    for i in range(len(plain_text)):\n",
        "        if plain_text[i].isalpha():\n",
        "            shift = ord(key_repeated[i].upper()) - ord('A')\n",
        "            if plain_text[i].isupper():\n",
        "                encrypted_text += chr((ord(plain_text[i]) + shift - ord('A')) % 26 + ord('A'))\n",
        "            else:\n",
        "                encrypted_text += chr((ord(plain_text[i]) + shift - ord('a')) % 26 + ord('a'))\n",
        "        else:\n",
        "            encrypted_text += plain_text[i]\n",
        "\n",
        "    return encrypted_text\n",
        "\n",
        "def vigenere_decrypt(encrypted_text, key):\n",
        "    decrypted_text = ''\n",
        "    key_repeated = (key * (len(encrypted_text) // len(key) + 1))[:len(encrypted_text)]\n",
        "\n",
        "    for i in range(len(encrypted_text)):\n",
        "        if encrypted_text[i].isalpha():\n",
        "            shift = ord(key_repeated[i].upper()) - ord('A')\n",
        "            if encrypted_text[i].isupper():\n",
        "                decrypted_text += chr((ord(encrypted_text[i]) - shift - ord('A')) % 26 + ord('A'))\n",
        "            else:\n",
        "                decrypted_text += chr((ord(encrypted_text[i]) - shift - ord('a')) % 26 + ord('a'))\n",
        "        else:\n",
        "            decrypted_text += encrypted_text[i]\n",
        "\n",
        "    return decrypted_text\n",
        "\n",
        "# Input dari pengguna\n",
        "plain_text = input(\"Masukkan teks: \").replace(\" \", \"\").upper()\n",
        "key = input(\"Masukkan kunci: \").replace(\" \", \"\").upper()\n",
        "\n",
        "encrypted_text = vigenere_encrypt(plain_text, key)\n",
        "decrypted_text = vigenere_decrypt(encrypted_text, key)\n",
        "\n",
        "print(\"\\nTeks Asli:\", plain_text)\n",
        "print(\"Teks Terenkripsi:\", encrypted_text)\n",
        "print(\"Teks Terdekripsi:\", decrypted_text)"
      ]
    }
  ]
}