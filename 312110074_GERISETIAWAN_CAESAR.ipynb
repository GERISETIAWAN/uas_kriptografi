{
  "nbformat": 4,
  "nbformat_minor": 0,
  "metadata": {
    "colab": {
      "provenance": []
    },
    "kernelspec": {
      "name": "python3",
      "display_name": "Python 3"
    },
    "language_info": {
      "name": "python"
    }
  },
  "cells": [
    {
      "cell_type": "code",
      "execution_count": 1,
      "metadata": {
        "colab": {
          "base_uri": "https://localhost:8080/"
        },
        "id": "6O3eMMI39cgu",
        "outputId": "5f6a21d1-c1cd-476b-d840-32379684c476"
      },
      "outputs": [
        {
          "output_type": "stream",
          "name": "stdout",
          "text": [
            "Masukkan teks yang ingin di enkripsi: GERISETIAWAN\n",
            "Masukkan pergeseran (bilangan bulat): 4\n",
            "Teks terenkripsi: KIVMWIXMEAER\n"
          ]
        }
      ],
      "source": [
        "def caesar_cipher(text, shift):\n",
        "    result = \"\"\n",
        "\n",
        "    for char in text:\n",
        "        if char.isalpha():\n",
        "            is_upper = char.isupper()\n",
        "            char = char.lower()\n",
        "            shifted = ord(char) + shift - ord('a')\n",
        "            shifted = shifted % 26 + ord('a')\n",
        "            if is_upper:\n",
        "                shifted = chr(shifted).upper()\n",
        "            else:\n",
        "                shifted = chr(shifted)\n",
        "            result += shifted\n",
        "        else:\n",
        "            result += char\n",
        "\n",
        "    return result\n",
        "\n",
        "# Masukkan teks yang ingin dienkripsi dan pergeseran\n",
        "plaintext = input(\"Masukkan teks yang ingin di enkripsi: \")\n",
        "shift = int(input(\"Masukkan pergeseran (bilangan bulat): \"))\n",
        "\n",
        "encrypted_text = caesar_cipher(plaintext, shift)\n",
        "print(\"Teks terenkripsi:\", encrypted_text)"
      ]
    }
  ]
}