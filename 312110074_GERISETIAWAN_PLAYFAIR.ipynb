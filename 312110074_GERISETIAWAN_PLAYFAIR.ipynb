{
  "nbformat": 4,
  "nbformat_minor": 0,
  "metadata": {
    "colab": {
      "provenance": []
    },
    "kernelspec": {
      "name": "python3",
      "display_name": "Python 3"
    },
    "language_info": {
      "name": "python"
    }
  },
  "cells": [
    {
      "cell_type": "code",
      "execution_count": null,
      "metadata": {
        "colab": {
          "base_uri": "https://localhost:8080/"
        },
        "id": "4wG1CoBC8Bli",
        "outputId": "0686a260-42d4-431a-a3b0-5f8129b29b4c"
      },
      "outputs": [
        {
          "output_type": "stream",
          "name": "stdout",
          "text": [
            "Plaintext: Geri Setiawan\n",
            "Key: FREEPALESTINE\n",
            "Encrypted Text: DPPSTRINRZNH\n"
          ]
        }
      ],
      "source": [
        "def prepare_text(text):\n",
        "    text = text.upper().replace('J', 'I')\n",
        "    # Menghilangkan karakter non-alfabet dan spasi\n",
        "    text = ''.join(filter(str.isalpha, text))\n",
        "    # Menambahkan 'X' jika jumlah karakter ganjil\n",
        "    if len(text) % 2 != 0:\n",
        "        text += 'X'\n",
        "    return text\n",
        "\n",
        "def create_playfair_matrix(key):\n",
        "    key = key.upper().replace('J', 'I')\n",
        "    alphabet = 'ABCDEFGHIKLMNOPQRSTUVWXYZ'\n",
        "    matrix = [[None] * 5 for _ in range(5)]\n",
        "    used_letters = set()\n",
        "\n",
        "    row, col = 0, 0\n",
        "\n",
        "    for letter in key:\n",
        "        if letter not in used_letters:\n",
        "            matrix[row][col] = letter\n",
        "            used_letters.add(letter)\n",
        "            col += 1\n",
        "            if col == 5:\n",
        "                col = 0\n",
        "                row += 1\n",
        "\n",
        "    for letter in alphabet:\n",
        "        if letter not in used_letters:\n",
        "            matrix[row][col] = letter\n",
        "            used_letters.add(letter)\n",
        "            col += 1\n",
        "            if col == 5:\n",
        "                col = 0\n",
        "                row += 1\n",
        "\n",
        "    return matrix\n",
        "\n",
        "def find_letter_coordinates(matrix, letter):\n",
        "    for i in range(5):\n",
        "        for j in range(5):\n",
        "            if matrix[i][j] == letter:\n",
        "                return i, j\n",
        "\n",
        "def playfair_encrypt(plaintext, key):\n",
        "    plaintext = prepare_text(plaintext)\n",
        "    matrix = create_playfair_matrix(key)\n",
        "    ciphertext = ''\n",
        "\n",
        "    for i in range(0, len(plaintext), 2):\n",
        "        a, b = plaintext[i], plaintext[i + 1]\n",
        "        row_a, col_a = find_letter_coordinates(matrix, a)\n",
        "        row_b, col_b = find_letter_coordinates(matrix, b)\n",
        "\n",
        "        if row_a == row_b:\n",
        "            ciphertext += matrix[row_a][(col_a + 1) % 5]\n",
        "            ciphertext += matrix[row_b][(col_b + 1) % 5]\n",
        "        elif col_a == col_b:\n",
        "            ciphertext += matrix[(row_a + 1) % 5][col_a]\n",
        "            ciphertext += matrix[(row_b + 1) % 5][col_b]\n",
        "        else:\n",
        "            ciphertext += matrix[row_a][col_b]\n",
        "            ciphertext += matrix[row_b][col_a]\n",
        "\n",
        "    return ciphertext\n",
        "\n",
        "plaintext = \"Geri Setiawan\"\n",
        "key = \"FREEPALESTINE\"\n",
        "\n",
        "encrypted_text = playfair_encrypt(plaintext, key)\n",
        "print(\"Plaintext: \" + plaintext)\n",
        "print(\"Key: \" + key)\n",
        "print(\"Encrypted Text: \" + encrypted_text)"
      ]
    }
  ]
}