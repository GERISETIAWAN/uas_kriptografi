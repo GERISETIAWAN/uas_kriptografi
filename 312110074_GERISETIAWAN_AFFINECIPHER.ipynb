{
  "nbformat": 4,
  "nbformat_minor": 0,
  "metadata": {
    "colab": {
      "provenance": [],
      "toc_visible": true
    },
    "kernelspec": {
      "name": "python3",
      "display_name": "Python 3"
    },
    "language_info": {
      "name": "python"
    }
  },
  "cells": [
    {
      "cell_type": "code",
      "execution_count": null,
      "metadata": {
        "colab": {
          "base_uri": "https://localhost:8080/"
        },
        "id": "bWjTZaXL95fE",
        "outputId": "d757a76b-5c77-46d1-e77c-47c841a61e40"
      },
      "outputs": [
        {
          "output_type": "stream",
          "name": "stdout",
          "text": [
            "Plain Text : Geri Setiawan\n",
            "Encrypted Text : Mcpw Uczwioiv\n",
            "Decrypted Text : Geri Setiawan\n"
          ]
        }
      ],
      "source": [
        "def egcd(a, b):\n",
        "    if a == 0:\n",
        "        return (b, 0, 1)\n",
        "    else:\n",
        "        g, x, y = egcd(b % a, a)\n",
        "        return (g, y - (b // a) * x, x)\n",
        "\n",
        "def modinv(a, m):\n",
        "    g, x, y = egcd(a, m)\n",
        "    if g != 1:\n",
        "        raise Exception('Modular inverse does not exist')\n",
        "    else:\n",
        "        return x % m\n",
        "\n",
        "def affine_encrypt(text, key):\n",
        "    a, b = key\n",
        "    result = \"\"\n",
        "    for char in text:\n",
        "        if char.isalpha():\n",
        "            if char.isupper():\n",
        "                result += chr((a * (ord(char) - ord('A')) + b) % 26 + ord('A'))\n",
        "            else:\n",
        "                result += chr((a * (ord(char) - ord('a')) + b) % 26 + ord('a'))\n",
        "        else:\n",
        "            result += char\n",
        "    return result\n",
        "\n",
        "def affine_decrypt(ciphertext, key):\n",
        "    a, b = key\n",
        "    result = \"\"\n",
        "    for char in ciphertext:\n",
        "        if char.isalpha():\n",
        "            if char.isupper():\n",
        "                result += chr((modinv(a, 26) * (ord(char) - ord('A') - b)) % 26 + ord('A'))\n",
        "            else:\n",
        "                result += chr((modinv(a, 26) * (ord(char) - ord('a') - b)) % 26 + ord('a'))\n",
        "        else:\n",
        "            result += char\n",
        "    return result\n",
        "\n",
        "text = \"Geri Setiawan\"\n",
        "key = (5, 8)\n",
        "encrypted_text = affine_encrypt(text, key)\n",
        "decrypted_text = affine_decrypt(encrypted_text, key)\n",
        "\n",
        "print(\"Plain Text : \" + text)\n",
        "print(\"Encrypted Text : \" + encrypted_text)\n",
        "print(\"Decrypted Text : \" + decrypted_text)"
      ]
    }
  ]
}