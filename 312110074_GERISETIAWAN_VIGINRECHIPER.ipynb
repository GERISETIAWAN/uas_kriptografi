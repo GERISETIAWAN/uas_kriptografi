{
  "nbformat": 4,
  "nbformat_minor": 0,
  "metadata": {
    "colab": {
      "provenance": [],
      "toc_visible": true
    },
    "kernelspec": {
      "name": "python3",
      "display_name": "Python 3"
    },
    "language_info": {
      "name": "python"
    }
  },
  "cells": [
    {
      "cell_type": "code",
      "source": [],
      "metadata": {
        "id": "6zosmM706gMj"
      },
      "execution_count": null,
      "outputs": []
    },
    {
      "cell_type": "code",
      "execution_count": null,
      "metadata": {
        "colab": {
          "base_uri": "https://localhost:8080/"
        },
        "id": "wrYd8o-Y6NQr",
        "outputId": "4899f175-4d28-48dc-c66e-08082014d760"
      },
      "outputs": [
        {
          "output_type": "stream",
          "name": "stdout",
          "text": [
            "Username: GERI\n",
            "Password: 123\n",
            "Login berhasil\n"
          ]
        }
      ],
      "source": [
        "import random\n",
        "import string\n",
        "\n",
        "def generate_vigenere_key(length):\n",
        "    return ''.join(random.choice(string.ascii_lowercase) for _ in range(length))\n",
        "def vigenere_encrypt(plain_text, key):\n",
        "    encrypted_text = ''\n",
        "    key_length = len(key)\n",
        "\n",
        "    for i in range(len(plain_text)):\n",
        "        char = plain_text[i]\n",
        "        if char.isalpha():\n",
        "            key_char = key[i % key_length]\n",
        "            shift = ord(key_char) - ord('a')\n",
        "            if char.isupper():\n",
        "                encrypted_char = chr(((ord(char) - ord('A') + shift) % 26) + ord('A'))\n",
        "            else:\n",
        "                encrypted_char = chr(((ord(char) - ord('a') + shift) % 26) + ord('a'))\n",
        "            encrypted_text += encrypted_char\n",
        "        else:\n",
        "            encrypted_text += char\n",
        "\n",
        "    return encrypted_text\n",
        "def vigenere_decrypt(encrypted_text, key):\n",
        "    decrypted_text = ''\n",
        "    key_length = len(key)\n",
        "\n",
        "    for i in range(len(encrypted_text)):\n",
        "        char = encrypted_text[i]\n",
        "        if char.isalpha():\n",
        "            key_char = key[i % key_length]\n",
        "            shift = ord(key_char) - ord('a')\n",
        "            if char.isupper():\n",
        "                decrypted_char = chr(((ord(char) - ord('A') - shift + 26) % 26) + ord('A'))\n",
        "            else:\n",
        "                decrypted_char = chr(((ord(char) - ord('a') - shift + 26) % 26) + ord('a'))\n",
        "            decrypted_text += decrypted_char\n",
        "        else:\n",
        "            decrypted_text += char\n",
        "\n",
        "    return decrypted_text\n",
        "\n",
        "key = generate_vigenere_key(8)\n",
        "\n",
        "\n",
        "username = \"GERI\"\n",
        "password = \"123\"\n",
        "\n",
        "\n",
        "encrypted_password = vigenere_encrypt(password, key)\n",
        "\n",
        "input_username = input(\"Username: \")\n",
        "input_password = input(\"Password: \")\n",
        "\n",
        "\n",
        "decrypted_password = vigenere_decrypt(encrypted_password, key)\n",
        "\n",
        "if input_username == username and input_password == decrypted_password:\n",
        "    print(\"Login berhasil\")\n",
        "else:\n",
        "    print(\"Login gagal\")"
      ]
    },
    {
      "cell_type": "code",
      "source": [],
      "metadata": {
        "id": "yhP-Ihb47GVv"
      },
      "execution_count": null,
      "outputs": []
    },
    {
      "cell_type": "markdown",
      "source": [
        "# Bagian Baru"
      ],
      "metadata": {
        "id": "Oif8GWV67Iyi"
      }
    }
  ]
}