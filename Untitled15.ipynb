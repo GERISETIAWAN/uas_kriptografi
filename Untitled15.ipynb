{
  "nbformat": 4,
  "nbformat_minor": 0,
  "metadata": {
    "colab": {
      "provenance": []
    },
    "kernelspec": {
      "name": "python3",
      "display_name": "Python 3"
    },
    "language_info": {
      "name": "python"
    }
  },
  "cells": [
    {
      "cell_type": "code",
      "execution_count": null,
      "metadata": {
        "colab": {
          "base_uri": "https://localhost:8080/",
          "height": 384
        },
        "id": "GpD9Nn_z2zg0",
        "outputId": "1b83432c-5cef-474e-d9c5-baf3ad77777c"
      },
      "outputs": [
        {
          "output_type": "error",
          "ename": "ModuleNotFoundError",
          "evalue": "No module named 'stegano'",
          "traceback": [
            "\u001b[0;31m---------------------------------------------------------------------------\u001b[0m",
            "\u001b[0;31mModuleNotFoundError\u001b[0m                       Traceback (most recent call last)",
            "\u001b[0;32m<ipython-input-3-4cf1ab414125>\u001b[0m in \u001b[0;36m<cell line: 6>\u001b[0;34m()\u001b[0m\n\u001b[1;32m      4\u001b[0m \u001b[0;31m# Import necessary modules\u001b[0m\u001b[0;34m\u001b[0m\u001b[0;34m\u001b[0m\u001b[0m\n\u001b[1;32m      5\u001b[0m \u001b[0;32mfrom\u001b[0m \u001b[0mPIL\u001b[0m \u001b[0;32mimport\u001b[0m \u001b[0mImage\u001b[0m\u001b[0;34m\u001b[0m\u001b[0;34m\u001b[0m\u001b[0m\n\u001b[0;32m----> 6\u001b[0;31m \u001b[0;32mfrom\u001b[0m \u001b[0mstegano\u001b[0m \u001b[0;32mimport\u001b[0m \u001b[0mlsb\u001b[0m\u001b[0;34m\u001b[0m\u001b[0;34m\u001b[0m\u001b[0m\n\u001b[0m\u001b[1;32m      7\u001b[0m \u001b[0;32mfrom\u001b[0m \u001b[0mgoogle\u001b[0m\u001b[0;34m.\u001b[0m\u001b[0mcolab\u001b[0m \u001b[0;32mimport\u001b[0m \u001b[0mfiles\u001b[0m\u001b[0;34m\u001b[0m\u001b[0;34m\u001b[0m\u001b[0m\n\u001b[1;32m      8\u001b[0m \u001b[0;34m\u001b[0m\u001b[0m\n",
            "\u001b[0;31mModuleNotFoundError\u001b[0m: No module named 'stegano'",
            "",
            "\u001b[0;31m---------------------------------------------------------------------------\u001b[0;32m\nNOTE: If your import is failing due to a missing package, you can\nmanually install dependencies using either !pip or !apt.\n\nTo view examples of installing some common dependencies, click the\n\"Open Examples\" button below.\n\u001b[0;31m---------------------------------------------------------------------------\u001b[0m\n"
          ],
          "errorDetails": {
            "actions": [
              {
                "action": "open_url",
                "actionText": "Open Examples",
                "url": "/notebooks/snippets/importing_libraries.ipynb"
              }
            ]
          }
        }
      ],
      "source": [
        "# Uncomment the following line and run it if stegano is not installed\n",
        "# !pip install stegano\n",
        "\n",
        "# Import necessary modules\n",
        "from PIL import Image\n",
        "from stegano import lsb\n",
        "from google.colab import files\n",
        "\n",
        "# Function to hide text in an image\n",
        "def hide_text_in_image(input_image_path, output_image_path, secret_text):\n",
        "    # Open the image\n",
        "    img = Image.open(input_image_path)\n",
        "\n",
        "    # Hide the text in the image\n",
        "    secret_img = lsb.hide(img, secret_text)\n",
        "\n",
        "    # Save the image with the hidden text\n",
        "    secret_img.save(output_image_path)\n",
        "\n",
        "# Function to extract text from an image\n",
        "def extract_text_from_image(input_image_path):\n",
        "    # Open the image with the hidden text\n",
        "    secret_img = Image.open(input_image_path)\n",
        "\n",
        "    # Extract the hidden text\n",
        "    extracted_text = lsb.reveal(secret_img)\n",
        "\n",
        "    return extracted_text\n",
        "\n",
        "# Upload an image file\n",
        "uploaded = files.upload()\n",
        "\n",
        "# Get the file name\n",
        "input_image_path = list(uploaded.keys())[0]\n",
        "\n",
        "# Output image path\n",
        "output_image_path = \"Screenshot (54).png\"\n",
        "\n",
        "# Check if the image has hidden text\n",
        "try:\n",
        "    extracted_text = extract_text_from_image(input_image_path)\n",
        "    print(\"Hidden Text Found:\", extracted_text)\n",
        "\n",
        "except Exception as e:\n",
        "    print(\"No hidden text found in the image.\")\n",
        "\n",
        "    # If no hidden text found, allow the user to input a new message\n",
        "    new_secret_text = input(\"Enter the new secret message: \")\n",
        "\n",
        "    # Hide text in the input image with the new message\n",
        "    hide_text_in_image(input_image_path, output_image_path, new_secret_text)\n",
        "\n",
        "    print(\"New message hidden in the image.\")\n",
        "\n",
        "    # Automatically download the output image\n",
        "    files.download(output_image_path)"
      ]
    }
  ]
}